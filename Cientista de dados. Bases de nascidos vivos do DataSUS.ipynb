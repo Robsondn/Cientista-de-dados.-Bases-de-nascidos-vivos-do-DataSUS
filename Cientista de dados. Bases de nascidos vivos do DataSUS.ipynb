{
 "cells": [
  {
   "cell_type": "markdown",
   "metadata": {},
   "source": [
    "## Base de nascidos vivos do DataSUS\n",
    "O DataSUS disponibiliza diversos arquivos de dados com relação a seus segurados, conforme a [lei da transparência de informações públicas](https://www.sisgov.com/transparencia-acesso-informacao/#:~:text=A%20Lei%20da%20Transpar%C3%AAncia%20(LC,em%20um%20site%20na%20internet.). \n",
    "\n",
    "Essas informações podem ser obtidas pela internet [aqui](http://www2.datasus.gov.br/DATASUS/index.php?area=0901&item=1). Como o processo de obtenção desses arquivos foge um pouco do nosso escopo, deixamos o arquivo SINASC_RO_2019.csv` já como vai ser encontrado no DataSUS. O dicionário de dados está no arquivo `estrutura_sinasc_para_CD.pdf` (o nome do arquivo tal qual no portal do DataSUS).\n",
    "\n",
    "### Nosso objetivo\n",
    "Queremos deixar uma base organizada para podermos estudar a relação entre partos com risco para o bebê e algumas condições como tempo de parto, consultas de pré-natal etc.\n",
    "\n",
    "#### Preparação da base\n",
    "1. Carregue a base 'SINASC_RO_2019.csv'. Conte o número de registros e o número de registros não duplicados da base. Dica: você aprendeu um método que remove duplicados, encadeie este método com um outro método que conta o número de linhas. **Há linhas duplicadas?**  \n",
    "\n",
    "2. Conte o número de valores *missing* por variável.  \n",
    "\n",
    "3. Ok, no item anterior você deve ter achado pouco prático ler a informação de tantas variáveis, muitas delas nem devem ser interesantes. Então crie uma seleção dessa base somente com as colunas que interessam. São elas:\n",
    "` \n",
    "['LOCNASC', 'IDADEMAE', 'ESTCIVMAE', 'ESCMAE', 'QTDFILVIVO', \n",
    "    'GESTACAO', 'GRAVIDEZ', 'CONSULTAS', 'APGAR5'] \n",
    "`\n",
    "Refaça a contagem de valores *missings*.  \n",
    "\n",
    "4. Apgar é uma *nota* que o pediatra dá ao bebê quando nasce de acordo com algumas características associadas principalmente à respiração. Apgar 1 e Apgar 5 são as notas 1 e 5 minutos do nascimento. Apgar5 será a nossa variável de interesse principal. Então remova todos os registros com Apgar5 não preenchido. Para esta seleção, conte novamente o número de linhas e o número de *missings*.  \n",
    "\n",
    "5. observe que as variáveis `['ESTCIVMAE', 'CONSULTAS']` possuem o código `9`, que significa *ignorado*. Vamos assumir que o não preenchido é o mesmo que o código `9`.<br>\n",
    "6. Substitua os valores faltantes da quantitativa (`QTDFILVIVO`) por zero.  \n",
    "7. Das restantes, decida que valore te parece mais adequado (um 'não preenchido' ou um valor 'mais provável' como no item anterior) e preencha. Justifique. Lembre-se de que tratamento de dados é trabalho do cientista, e que estamos tomando decisões a todo o momento - não há necessariamente certo e errado aqui.  \n",
    "8. O Apgar possui uma classificação indicando se o bebê passou por asfixia:\n",
    "- Entre 8 e 10 está em uma faixa 'normal'. \n",
    "- Entre 6 e 7, significa que o recém-nascido passou por 'asfixia leve'. \n",
    "- Entre 4 e 5 significa 'asfixia moderada'.\n",
    "- Entre 0 e 3 significa 'asfixia severa'.  \n",
    "\n",
    "Crie uma categorização dessa variável com essa codificação e calcule as frequências dessa categorização.  \n",
    "<br>\n",
    "9. Renomeie as variáveis para que fiquem no *snake case*, ou seja, em letras minúsculas, com um *underscore* entre as palávras. Dica: repare que se você não quiser criar um *dataframe* novo, você vai precisar usar a opção `inplace = True`."
   ]
  },
  {
   "cell_type": "code",
   "execution_count": 1,
   "metadata": {},
   "outputs": [
    {
     "name": "stdout",
     "output_type": "stream",
     "text": [
      "(27028, 69)\n"
     ]
    },
    {
     "data": {
      "text/plain": [
       "(27028, 69)"
      ]
     },
     "execution_count": 1,
     "metadata": {},
     "output_type": "execute_result"
    }
   ],
   "source": [
    "import pandas as pd\n",
    "import requests\n",
    "import numpy as np\n",
    "\n",
    "# 1) Meu código aqui\n",
    "sinasc = pd.read_csv('SINASC_RO_2019.csv')\n",
    "print(sinasc.shape)\n",
    "sinasc.drop_duplicates().shape\n",
    "# Não há duplicados"
   ]
  },
  {
   "cell_type": "code",
   "execution_count": 2,
   "metadata": {},
   "outputs": [
    {
     "name": "stdout",
     "output_type": "stream",
     "text": [
      "\n",
      "Número de valores ausentes por variável:\n",
      "ORIGEM          0\n",
      "CODESTAB      115\n",
      "CODMUNNASC      0\n",
      "LOCNASC         0\n",
      "IDADEMAE        0\n",
      "             ... \n",
      "munResUf        0\n",
      "munResLat       1\n",
      "munResLon       1\n",
      "munResAlt       1\n",
      "munResArea      1\n",
      "Length: 69, dtype: int64\n"
     ]
    }
   ],
   "source": [
    "# 2) Meu código aqui\n",
    "print(\"\\nNúmero de valores ausentes por variável:\")\n",
    "print(sinasc.isnull().sum())"
   ]
  },
  {
   "cell_type": "code",
   "execution_count": 3,
   "metadata": {},
   "outputs": [
    {
     "name": "stdout",
     "output_type": "stream",
     "text": [
      "Número de valores ausentes por variável (após seleção de colunas):\n",
      "LOCNASC          0\n",
      "IDADEMAE         0\n",
      "ESTCIVMAE      317\n",
      "ESCMAE         312\n",
      "QTDFILVIVO    1573\n",
      "GESTACAO      1232\n",
      "GRAVIDEZ        79\n",
      "CONSULTAS        0\n",
      "APGAR5         103\n",
      "dtype: int64\n"
     ]
    }
   ],
   "source": [
    "# 3) Meu código aqui\n",
    "colunas_de_interesse = ['LOCNASC', 'IDADEMAE', 'ESTCIVMAE', 'ESCMAE', 'QTDFILVIVO', \n",
    "                           'GESTACAO', 'GRAVIDEZ', 'CONSULTAS', 'APGAR5']\n",
    "\n",
    "    # Criando uma nova base de dados apenas com as colunas de interesse\n",
    "sinasc_selecionado = sinasc[colunas_de_interesse].copy()\n",
    "\n",
    "    # Refazendo a contagem de valores ausentes por variável\n",
    "print(\"Número de valores ausentes por variável (após seleção de colunas):\")\n",
    "print(sinasc_selecionado.isnull().sum())"
   ]
  },
  {
   "cell_type": "code",
   "execution_count": 4,
   "metadata": {},
   "outputs": [
    {
     "name": "stdout",
     "output_type": "stream",
     "text": [
      "Número de linhas após remover registros com APGAR5 não preenchido: 26925\n",
      "Número de valores ausentes por variável após remoção de registros com APGAR5 não preenchido:\n",
      "LOCNASC          0\n",
      "IDADEMAE         0\n",
      "ESTCIVMAE      315\n",
      "ESCMAE         310\n",
      "QTDFILVIVO    1566\n",
      "GESTACAO      1216\n",
      "GRAVIDEZ        76\n",
      "CONSULTAS        0\n",
      "APGAR5           0\n",
      "dtype: int64\n"
     ]
    }
   ],
   "source": [
    "# 4) Meu código aqui\n",
    "# Removendo os registros com APGAR5 não preenchido\n",
    "sinasc_selecionado = sinasc_selecionado.dropna(subset=['APGAR5']).copy()\n",
    "numero_linhas = sinasc_selecionado.shape[0]\n",
    "print(f\"Número de linhas após remover registros com APGAR5 não preenchido: {numero_linhas}\")\n",
    "print(\"Número de valores ausentes por variável após remoção de registros com APGAR5 não preenchido:\")\n",
    "print(sinasc_selecionado.isnull().sum())"
   ]
  },
  {
   "cell_type": "code",
   "execution_count": 5,
   "metadata": {},
   "outputs": [
    {
     "name": "stdout",
     "output_type": "stream",
     "text": [
      "Número de valores ausentes por variável após substituir o código 9 por NaN:\n",
      "LOCNASC          0\n",
      "IDADEMAE         0\n",
      "ESTCIVMAE      459\n",
      "ESCMAE         310\n",
      "QTDFILVIVO    1566\n",
      "GESTACAO      1216\n",
      "GRAVIDEZ        76\n",
      "CONSULTAS       50\n",
      "APGAR5           0\n",
      "dtype: int64\n"
     ]
    }
   ],
   "source": [
    "# 5) seu código aqui\n",
    "# Substitui os valores 9 por NaN (Not a Number) nas colunas 'ESTCIVMAE' e 'CONSULTAS'\n",
    "sinasc_selecionado[['ESTCIVMAE', 'CONSULTAS']] = sinasc_selecionado[['ESTCIVMAE', 'CONSULTAS']].replace(9, np.nan)\n",
    "\n",
    "print(\"Número de valores ausentes por variável após substituir o código 9 por NaN:\")\n",
    "print(sinasc_selecionado.isnull().sum())\n"
   ]
  },
  {
   "cell_type": "code",
   "execution_count": 6,
   "metadata": {},
   "outputs": [
    {
     "name": "stdout",
     "output_type": "stream",
     "text": [
      "Número de valores ausentes por variável após substituir valores faltantes em QTDFILVIVO por zero:\n",
      "LOCNASC          0\n",
      "IDADEMAE         0\n",
      "ESTCIVMAE      459\n",
      "ESCMAE         310\n",
      "QTDFILVIVO       0\n",
      "GESTACAO      1216\n",
      "GRAVIDEZ        76\n",
      "CONSULTAS       50\n",
      "APGAR5           0\n",
      "dtype: int64\n"
     ]
    }
   ],
   "source": [
    "# 6) Meu código aqui\n",
    "# Substitui os valores faltantes em 'QTDFILVIVO' por zero\n",
    "sinasc_selecionado['QTDFILVIVO'] = sinasc_selecionado['QTDFILVIVO'].fillna(0)\n",
    "\n",
    "\n",
    "print(\"Número de valores ausentes por variável após substituir valores faltantes em QTDFILVIVO por zero:\")\n",
    "print(sinasc_selecionado.isnull().sum())"
   ]
  },
  {
   "cell_type": "code",
   "execution_count": 7,
   "metadata": {},
   "outputs": [
    {
     "name": "stdout",
     "output_type": "stream",
     "text": [
      "Número de valores ausentes por variável após preencher todos os faltantes restantes:\n",
      "LOCNASC       0\n",
      "IDADEMAE      0\n",
      "ESTCIVMAE     0\n",
      "ESCMAE        0\n",
      "QTDFILVIVO    0\n",
      "GESTACAO      0\n",
      "GRAVIDEZ      0\n",
      "CONSULTAS     0\n",
      "APGAR5        0\n",
      "dtype: int64\n"
     ]
    }
   ],
   "source": [
    "# 7) Meu código aqui\n",
    "# Preenche os valores faltantes restantes com 'Não Informado'\n",
    "sinasc_selecionado = sinasc_selecionado.fillna('Não Informado')\n",
    "    \n",
    "print(\"Número de valores ausentes por variável após preencher todos os faltantes restantes:\")\n",
    "print(sinasc_selecionado.isnull().sum())"
   ]
  },
  {
   "cell_type": "code",
   "execution_count": 8,
   "metadata": {},
   "outputs": [
    {
     "name": "stdout",
     "output_type": "stream",
     "text": [
      "Frequência de cada categoria de Apgar:\n",
      "apgar_cat\n",
      "normal              26463\n",
      "asfixia leve          320\n",
      "asfixia severa         74\n",
      "asfixia moderada       68\n",
      "Name: count, dtype: int64\n"
     ]
    }
   ],
   "source": [
    "# 8) Meu código aqui\n",
    "sinasc_selecionado = sinasc_selecionado.fillna('Não Informado')\n",
    "\n",
    "    # Definindo a função para categorizar o Apgar\n",
    "def categoriza_apgar(apgar):\n",
    "    if 8 <= apgar <= 10:\n",
    "         return 'normal'\n",
    "    elif 6 <= apgar <= 7:\n",
    "        return 'asfixia leve'\n",
    "    elif 4 <= apgar <= 5:\n",
    "        return 'asfixia moderada'\n",
    "    elif 0 <= apgar <= 3:\n",
    "        return 'asfixia severa'\n",
    "    else:\n",
    "        return 'Não Classificado'\n",
    "    # Criando a nova coluna com a classificação do Apgar\n",
    "sinasc_selecionado['apgar_cat'] = sinasc_selecionado['APGAR5'].apply(categoriza_apgar)\n",
    "\n",
    "\n",
    "    # Calculando a frequência de cada categoria\n",
    "frequencias = sinasc_selecionado['apgar_cat'].value_counts()\n",
    "\n",
    "print(\"Frequência de cada categoria de Apgar:\")\n",
    "print(frequencias)"
   ]
  },
  {
   "cell_type": "code",
   "execution_count": 9,
   "metadata": {},
   "outputs": [
    {
     "name": "stdout",
     "output_type": "stream",
     "text": [
      "Nomes das colunas após a transformação para snake case:\n",
      "Index(['locnasc', 'idademae', 'estcivmae', 'escmae', 'qtdfilvivo', 'gestacao',\n",
      "       'gravidez', 'consultas', 'apgar5', 'apgar_cat'],\n",
      "      dtype='object')\n"
     ]
    }
   ],
   "source": [
    "# 9) Meu código aqui\n",
    "# Renomei as colunas para snake_case\n",
    "sinasc_selecionado.columns = sinasc_selecionado.columns.str.lower().str.replace(' ', '_')\n",
    "\n",
    "\n",
    "print(\"Nomes das colunas após a transformação para snake case:\")\n",
    "print(sinasc_selecionado.columns)"
   ]
  },
  {
   "cell_type": "code",
   "execution_count": null,
   "metadata": {},
   "outputs": [],
   "source": []
  }
 ],
 "metadata": {
  "kernelspec": {
   "display_name": "Python 3 (ipykernel)",
   "language": "python",
   "name": "python3"
  },
  "language_info": {
   "codemirror_mode": {
    "name": "ipython",
    "version": 3
   },
   "file_extension": ".py",
   "mimetype": "text/x-python",
   "name": "python",
   "nbconvert_exporter": "python",
   "pygments_lexer": "ipython3",
   "version": "3.12.4"
  }
 },
 "nbformat": 4,
 "nbformat_minor": 4
}
